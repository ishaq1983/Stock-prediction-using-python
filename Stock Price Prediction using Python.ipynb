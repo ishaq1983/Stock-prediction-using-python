{
 "cells": [
  {
   "cell_type": "markdown",
   "id": "15fd5d5e",
   "metadata": {},
   "source": [
    "# Stock Price Prediction using Python"
   ]
  },
  {
   "cell_type": "markdown",
   "id": "55dfdb9f",
   "metadata": {},
   "source": [
    "#### Stock market prediction is the act of trying to determine the future value of company stock or other financial instruments traded on an exchange.\n",
    "\n",
    "#### The successful prediction of a stock’s future price could yield a significant profit. In this application, we used the LSTM network to predict the closing stock price using the past 60-day stock price."
   ]
  },
  {
   "cell_type": "markdown",
   "id": "37e50af7",
   "metadata": {},
   "source": [
    "#### For the application, we used the machine learning technique called Long Short Term Memory (LSTM). LSTM is an artificial recurrent neural network (RNN) architecture used in the field of deep learning.\n",
    "\n",
    "#### Unlike standard feed-forward neural networks, LSTM has feedback connections. It can not only process single data points (such as images), but also entire sequences of data (such as speech or video).\n",
    "\n",
    "\n",
    "#### LSTM is widely used for the problems of sequence prediction and been very effective"
   ]
  },
  {
   "cell_type": "markdown",
   "id": "591e110e",
   "metadata": {},
   "source": [
    "## 1. Importing Modules\n",
    "#### First step is to import all the necessary modules in the project."
   ]
  },
  {
   "cell_type": "code",
   "execution_count": 1,
   "id": "518aec4f",
   "metadata": {},
   "outputs": [],
   "source": [
    "import numpy as np\n",
    "import pandas as pd\n",
    "import matplotlib.pyplot as plt\n",
    "from keras.utils.vis_utils import plot_model\n",
    "from keras.models import Sequential\n",
    "from keras.layers import Dense, LSTM,Dropout\n",
    "from tensorflow import keras\n",
    "import math\n",
    "from sklearn.preprocessing import MinMaxScaler"
   ]
  },
  {
   "cell_type": "markdown",
   "id": "205206b8",
   "metadata": {},
   "source": [
    "#### For the project, we will be using basic modules like numpy, pandas, and matplotlib. In addition to this, we will be using some submodules of keras to create and build our model properly.\n",
    "\n",
    "#### We would also require the math module for basic calculation and preprocessing module of sklearn to handle the data in a better and simpler way."
   ]
  },
  {
   "cell_type": "markdown",
   "id": "5d47c15c",
   "metadata": {},
   "source": [
    "## 2. Loading and Preparation of Data\n",
    "\n",
    "#### For the project we will be using the \"Banknifty_5m_data_1_oct\" csv file which includes stock data for 3 months and has seven columns which are listed below.\n",
    "\n",
    "#### 1. Date – Format of date is: “yy-mm-dd”\n",
    "#### 2. Open – Price of the stock at open market\n",
    "#### 3. High – Highest price reached in the day\n",
    "#### 4. Low – Lowest price reached in the day\n",
    "#### 5. Close – Price of the stock at the close market\n",
    "#### 6. Adj.Close – the closing price after adjustments for all applicable splits and dividend distributions\n",
    "####  7.Volume – Number of shares traded"
   ]
  },
  {
   "cell_type": "code",
   "execution_count": 2,
   "id": "0cc2b3f8",
   "metadata": {},
   "outputs": [
    {
     "data": {
      "text/html": [
       "<div>\n",
       "<style scoped>\n",
       "    .dataframe tbody tr th:only-of-type {\n",
       "        vertical-align: middle;\n",
       "    }\n",
       "\n",
       "    .dataframe tbody tr th {\n",
       "        vertical-align: top;\n",
       "    }\n",
       "\n",
       "    .dataframe thead th {\n",
       "        text-align: right;\n",
       "    }\n",
       "</style>\n",
       "<table border=\"1\" class=\"dataframe\">\n",
       "  <thead>\n",
       "    <tr style=\"text-align: right;\">\n",
       "      <th></th>\n",
       "      <th>Datetime</th>\n",
       "      <th>Open</th>\n",
       "      <th>High</th>\n",
       "      <th>Low</th>\n",
       "      <th>Close</th>\n",
       "      <th>Adj Close</th>\n",
       "      <th>Volume</th>\n",
       "    </tr>\n",
       "  </thead>\n",
       "  <tbody>\n",
       "    <tr>\n",
       "      <th>0</th>\n",
       "      <td>2022-07-06 09:15:00+05:30</td>\n",
       "      <td>33929.398438</td>\n",
       "      <td>34091.250000</td>\n",
       "      <td>33916.101562</td>\n",
       "      <td>34023.648438</td>\n",
       "      <td>34023.648438</td>\n",
       "      <td>0</td>\n",
       "    </tr>\n",
       "    <tr>\n",
       "      <th>1</th>\n",
       "      <td>2022-07-06 09:20:00+05:30</td>\n",
       "      <td>34022.050781</td>\n",
       "      <td>34132.898438</td>\n",
       "      <td>34022.050781</td>\n",
       "      <td>34129.148438</td>\n",
       "      <td>34129.148438</td>\n",
       "      <td>0</td>\n",
       "    </tr>\n",
       "    <tr>\n",
       "      <th>2</th>\n",
       "      <td>2022-07-06 09:25:00+05:30</td>\n",
       "      <td>34127.601562</td>\n",
       "      <td>34158.000000</td>\n",
       "      <td>34107.148438</td>\n",
       "      <td>34143.449219</td>\n",
       "      <td>34143.449219</td>\n",
       "      <td>0</td>\n",
       "    </tr>\n",
       "    <tr>\n",
       "      <th>3</th>\n",
       "      <td>2022-07-06 09:30:00+05:30</td>\n",
       "      <td>34137.601562</td>\n",
       "      <td>34155.101562</td>\n",
       "      <td>34096.250000</td>\n",
       "      <td>34120.199219</td>\n",
       "      <td>34120.199219</td>\n",
       "      <td>0</td>\n",
       "    </tr>\n",
       "    <tr>\n",
       "      <th>4</th>\n",
       "      <td>2022-07-06 09:35:00+05:30</td>\n",
       "      <td>34119.750000</td>\n",
       "      <td>34135.699219</td>\n",
       "      <td>34092.000000</td>\n",
       "      <td>34092.000000</td>\n",
       "      <td>34092.000000</td>\n",
       "      <td>0</td>\n",
       "    </tr>\n",
       "  </tbody>\n",
       "</table>\n",
       "</div>"
      ],
      "text/plain": [
       "                    Datetime          Open          High           Low  \\\n",
       "0  2022-07-06 09:15:00+05:30  33929.398438  34091.250000  33916.101562   \n",
       "1  2022-07-06 09:20:00+05:30  34022.050781  34132.898438  34022.050781   \n",
       "2  2022-07-06 09:25:00+05:30  34127.601562  34158.000000  34107.148438   \n",
       "3  2022-07-06 09:30:00+05:30  34137.601562  34155.101562  34096.250000   \n",
       "4  2022-07-06 09:35:00+05:30  34119.750000  34135.699219  34092.000000   \n",
       "\n",
       "          Close     Adj Close  Volume  \n",
       "0  34023.648438  34023.648438       0  \n",
       "1  34129.148438  34129.148438       0  \n",
       "2  34143.449219  34143.449219       0  \n",
       "3  34120.199219  34120.199219       0  \n",
       "4  34092.000000  34092.000000       0  "
      ]
     },
     "execution_count": 2,
     "metadata": {},
     "output_type": "execute_result"
    }
   ],
   "source": [
    "df=pd.read_csv(\"Banknifty_5m_data_1_oct.csv\")\n",
    "df.head()"
   ]
  },
  {
   "cell_type": "markdown",
   "id": "fe54473b",
   "metadata": {},
   "source": [
    "# 3. Understanding the Data\n",
    "\n",
    "## 3.1 Data Summary"
   ]
  },
  {
   "cell_type": "code",
   "execution_count": 3,
   "id": "6fbf4756",
   "metadata": {},
   "outputs": [
    {
     "name": "stdout",
     "output_type": "stream",
     "text": [
      "\n",
      "Data Summary\n",
      " \n",
      "Number of Rows     :  4499\n",
      "Number of Columns  :  7 \n",
      "\n",
      "<class 'pandas.core.frame.DataFrame'>\n",
      "RangeIndex: 4499 entries, 0 to 4498\n",
      "Data columns (total 7 columns):\n",
      " #   Column     Non-Null Count  Dtype  \n",
      "---  ------     --------------  -----  \n",
      " 0   Datetime   4499 non-null   object \n",
      " 1   Open       4499 non-null   float64\n",
      " 2   High       4499 non-null   float64\n",
      " 3   Low        4499 non-null   float64\n",
      " 4   Close      4499 non-null   float64\n",
      " 5   Adj Close  4499 non-null   float64\n",
      " 6   Volume     4499 non-null   int64  \n",
      "dtypes: float64(5), int64(1), object(1)\n",
      "memory usage: 246.2+ KB\n",
      "\n",
      "Features : \n",
      "\n",
      " None \n",
      "                Open          High           Low         Close     Adj Close  \\\n",
      "count   4499.000000   4499.000000   4499.000000   4499.000000   4499.000000   \n",
      "mean   38232.863543  38259.840769  38205.939855  38233.823223  38233.823223   \n",
      "std     1964.348261   1965.959555   1962.130293   1963.918792   1963.918792   \n",
      "min    33929.398438  34074.750000  33916.101562  33992.148438  33992.148438   \n",
      "25%    36712.449219  36728.974609  36674.500000  36711.701172  36711.701172   \n",
      "50%    38413.000000  38450.750000  38387.199219  38414.699219  38414.699219   \n",
      "75%    39513.699219  39542.724609  39492.875000  39516.650391  39516.650391   \n",
      "max    41795.851562  41830.351562  41766.300781  41788.199219  41788.199219   \n",
      "\n",
      "       Volume  \n",
      "count  4499.0  \n",
      "mean      0.0  \n",
      "std       0.0  \n",
      "min       0.0  \n",
      "25%       0.0  \n",
      "50%       0.0  \n",
      "75%       0.0  \n",
      "max       0.0  \n",
      "\n",
      "Missing values:\n",
      "\n",
      " Datetime     0\n",
      "Open         0\n",
      "High         0\n",
      "Low          0\n",
      "Close        0\n",
      "Adj Close    0\n",
      "Volume       0\n",
      "dtype: int64\n",
      "\n",
      "Unique values :  \n",
      "\n",
      " Datetime     4499\n",
      "Open         4390\n",
      "High         4400\n",
      "Low          4393\n",
      "Close        4405\n",
      "Adj Close    4405\n",
      "Volume          1\n",
      "dtype: int64\n"
     ]
    }
   ],
   "source": [
    "print(\"\\nData Summary\")\n",
    "print(\" \")\n",
    "print (\"Number of Rows     : \" , df.shape[0])\n",
    "print (\"Number of Columns  : \" , df.shape[1] ,\"\\n\")\n",
    "print (\"\\nFeatures : \\n\\n\" , df.info(),\"\\n\", df.describe())\n",
    "print (\"\\nMissing values:\\n\\n\",df.isnull().sum())\n",
    "print (\"\\nUnique values :  \\n\\n\",df.nunique())"
   ]
  },
  {
   "cell_type": "markdown",
   "id": "424d431a",
   "metadata": {},
   "source": [
    "## 3.2 Visualizing the stock data"
   ]
  },
  {
   "cell_type": "markdown",
   "id": "7e0f694a",
   "metadata": {},
   "source": [
    "#### To visualize the data we will be first plotting the date vs close market prices for the  stock for all the data points.\n",
    "\n",
    "\n",
    "#### To make the visualization simpler, we would be plotting the same plot but for only the first 60 data points.\n",
    "\n"
   ]
  },
  {
   "cell_type": "code",
   "execution_count": 4,
   "id": "6dfd26f0",
   "metadata": {},
   "outputs": [
    {
     "data": {
      "image/png": "[encoded data removed]",
      "text/plain": [
       "<Figure size 432x288 with 1 Axes>"
      ]
     },
     "metadata": {
      "needs_background": "light"
     },
     "output_type": "display_data"
    },
    {
     "data": {
      "image/png": "[encoded data removed]",
      "text/plain": [
       "<Figure size 432x288 with 1 Axes>"
      ]
     },
     "metadata": {
      "needs_background": "light"
     },
     "output_type": "display_data"
    }
   ],
   "source": [
    "#  Plotting date vs the close market stock price\n",
    "df.plot('Datetime','Open',color=\"red\")\n",
    " \n",
    "# Extract only top 60 rows to make the plot a little clearer\n",
    "new_data = df.head(60)\n",
    " \n",
    "#  Plotting date vs the close  market stock price\n",
    "new_data.plot('Datetime','Open',color=\"green\")\n",
    " \n",
    "plt.show()"
   ]
  },
  {
   "cell_type": "markdown",
   "id": "584b070b",
   "metadata": {},
   "source": [
    "# 4. Creating a new Dataframe and Training data"
   ]
  },
  {
   "cell_type": "markdown",
   "id": "8429e9f7",
   "metadata": {},
   "source": [
    "#### To make our study easier we will only consider the closing market price and predict the closing market price using Python. The whole train data preparation is shown in the steps below. Comments are added for your reference."
   ]
  },
  {
   "cell_type": "code",
   "execution_count": 5,
   "id": "a4eb4a82",
   "metadata": {},
   "outputs": [
    {
     "name": "stdout",
     "output_type": "stream",
     "text": [
      "3150\n"
     ]
    }
   ],
   "source": [
    "# 1. Filter out the closing market price data\n",
    "close_data = df.filter(['Close'])\n",
    " \n",
    "# 2. Convert the data into array for easy evaluation\n",
    "dataset = close_data.values\n",
    " \n",
    "# 3. Scale/Normalize the data to make all values between 0 and 1\n",
    "scaler = MinMaxScaler(feature_range=(0, 1))\n",
    "scaled_data = scaler.fit_transform(dataset)\n",
    " \n",
    "# 4. Creating training data size : 70% of the data\n",
    "training_data_len = math.ceil(len(dataset) *.7)\n",
    "train_data = scaled_data[0:training_data_len  , : ]\n",
    "print(training_data_len)\n",
    " \n",
    "# 5. Separating the data into x and y data\n",
    "x_train_data=[]\n",
    "y_train_data =[]\n",
    "for i in range(60,len(train_data)):\n",
    "    x_train_data=list(x_train_data)\n",
    "    y_train_data=list(y_train_data)\n",
    "    x_train_data.append(train_data[i-60:i,0])\n",
    "    y_train_data.append(train_data[i,0])\n",
    " \n",
    "    # 6. Converting the training x and y values to numpy arrays\n",
    "    x_train_data1, y_train_data1 = np.array(x_train_data), np.array(y_train_data)\n",
    " \n",
    "    # 7. Reshaping training s and y data to make the calculations easier\n",
    "    x_train_data2 = np.reshape(x_train_data1, (x_train_data1.shape[0],x_train_data1.shape[1],1))\n",
    "   \n"
   ]
  },
  {
   "cell_type": "markdown",
   "id": "333f97b2",
   "metadata": {},
   "source": [
    "#### Here we create a data set to train the data that contains the closing price of 60 days ( 60 data points) so that we could do the prediction for the 61st closing price.\n",
    "\n",
    "#### Now the x_train data set will contain a total of 60 values, the first column will contain from the index of 0 to 59 and the second column from the index of 1 to 60, and so on\n",
    "\n",
    "#### The y_train data set will contain the 61st value at its first column located at index 60 and for the second column, it will contain the 62nd value located at index 61 and so on.\n",
    "\n",
    "#### Converting both the independent and dependent train data set as x_train_data and y_train_data respectively, into the NumPy arrays so that they can be used to train the LSTM model.\n",
    "\n",
    "#### Also, as the LSTM model is expecting the data in 3-dimensional data set, using reshape() function we will reshape the data in the form of 3-dimension."
   ]
  },
  {
   "cell_type": "markdown",
   "id": "e360cf35",
   "metadata": {},
   "source": [
    "# 5. Building LSTM Model"
   ]
  },
  {
   "cell_type": "markdown",
   "id": "f2485959",
   "metadata": {},
   "source": [
    "#### The LSTM model will have two LSTM layers with 50 neurons and two Dense layers, one with 25 neurons and the other with one neuron."
   ]
  },
  {
   "cell_type": "code",
   "execution_count": 6,
   "id": "04c0887a",
   "metadata": {},
   "outputs": [
    {
     "data": {
      "image/png": "[encoded data removed]",
      "text/plain": [
       "<IPython.core.display.Image object>"
      ]
     },
     "execution_count": 6,
     "metadata": {},
     "output_type": "execute_result"
    }
   ],
   "source": [
    "model = Sequential()\n",
    "model.add(LSTM(64, activation='relu', input_shape=(x_train_data2.shape[1],1), return_sequences=True))\n",
    "model.add(LSTM(32,  activation='relu', return_sequences=False))\n",
    "model.add(Dense(25))\n",
    "model.add(Dense(1))\n",
    "plot_model(model, show_shapes=True, show_layer_names=True)"
   ]
  },
  {
   "cell_type": "markdown",
   "id": "84cd8320",
   "metadata": {},
   "source": [
    "# 6. Compiling the Model\n",
    "#### The LSTM model is compiled using the mean squared error (MSE) loss function and the adam optimizer."
   ]
  },
  {
   "cell_type": "code",
   "execution_count": 7,
   "id": "26d169d0",
   "metadata": {},
   "outputs": [
    {
     "name": "stdout",
     "output_type": "stream",
     "text": [
      "3090/3090 [==============================] - 68s 21ms/step - loss: 0.0020\n"
     ]
    },
    {
     "data": {
      "text/plain": [
       "<keras.callbacks.History at 0x274908eaca0>"
      ]
     },
     "execution_count": 7,
     "metadata": {},
     "output_type": "execute_result"
    }
   ],
   "source": [
    "opt = keras.optimizers.Adam(\n",
    "    learning_rate=0.001,\n",
    "    beta_1=0.9,\n",
    "    beta_2=0.999,\n",
    "    epsilon=1e-07,\n",
    "    amsgrad=False,\n",
    "    name=\"Adam\")\n",
    "model.compile(optimizer=opt, loss='mean_squared_error')\n",
    "model.fit(x_train_data2, y_train_data1, batch_size=1, epochs=1)\n",
    "\n"
   ]
  },
  {
   "cell_type": "markdown",
   "id": "85d76764",
   "metadata": {},
   "source": [
    "#### Using the fit() function which is another name for train, we are training the data sets. Here, batch_size is the total number of training examples present in the single batch, and epochs are the number of iterations when an entire data set is passed forward and backward through the neural network."
   ]
  },
  {
   "cell_type": "markdown",
   "id": "714a129d",
   "metadata": {},
   "source": [
    "# 7. Testing the model on testing data\n",
    "\n",
    "#### The code below will get all the rows above the training_data_len from the column of the closing price. Then convert the x_test data set into the NumPy arrays so that they can be used to train the LSTM model.\n",
    "\n",
    "#### As the LSTM model is expecting the data in 3-dimensional data set, using reshape() function we will reshape the data set in the form of 3-dimension.\n",
    "\n",
    "#### Using the predict() function, get the predicted values from the model using the test data. And scaler.inverse_transform() function is undoing the scaling."
   ]
  },
  {
   "cell_type": "code",
   "execution_count": 8,
   "id": "94fb5c39",
   "metadata": {},
   "outputs": [],
   "source": [
    "# 1. Creating a dataset for testing\n",
    "test_data = scaled_data[training_data_len - 60: , : ]\n",
    "x_test = []\n",
    "y_test =  dataset[training_data_len : , : ]\n",
    "for i in range(60,len(test_data)):\n",
    "    x_test.append(test_data[i-60:i,0])\n",
    " \n",
    "# 2.  Convert the values into arrays for easier computation\n",
    "x_test = np.array(x_test)\n",
    "x_test = np.reshape(x_test, (x_test.shape[0],x_test.shape[1],1))\n",
    " \n",
    "# 3. Making predictions on the testing data\n",
    "predictions = model.predict(x_test)\n",
    "predictions = scaler.inverse_transform(predictions)"
   ]
  },
  {
   "cell_type": "markdown",
   "id": "8fd978fd",
   "metadata": {},
   "source": [
    "# 8. Error Calculation\n",
    "#### RMSE is the root mean squared error, which helps to measure the accuracy of the model."
   ]
  },
  {
   "cell_type": "code",
   "execution_count": 9,
   "id": "1a311e3d",
   "metadata": {},
   "outputs": [
    {
     "name": "stdout",
     "output_type": "stream",
     "text": [
      "139.63100867572442\n"
     ]
    }
   ],
   "source": [
    "rmse=np.sqrt(np.mean(((predictions- y_test)**2)))\n",
    "print(rmse)"
   ]
  },
  {
   "cell_type": "markdown",
   "id": "9a244c9e",
   "metadata": {},
   "source": [
    "#### The lower the value, the better the model performs. The 0 value indicates the model’s predicted values match the actual values from the test data set perfectly.\n",
    "\n",
    "\n",
    "#### rmse value we received was 139.63100867572442 the model need to be tuned more to get the value lower."
   ]
  },
  {
   "cell_type": "markdown",
   "id": "5da5a300",
   "metadata": {},
   "source": [
    "# 9. Make Predictions\n",
    "\n",
    "#### The final step is to plot and visualize the data. To visualize the data we use these basic functions like title, label, plot as per how we want our graph to look like"
   ]
  },
  {
   "cell_type": "code",
   "execution_count": 10,
   "id": "1e49b2a8",
   "metadata": {},
   "outputs": [
    {
     "name": "stderr",
     "output_type": "stream",
     "text": [
      "C:\\Users\\User\\AppData\\Local\\Temp\\ipykernel_2008\\3650764946.py:4: SettingWithCopyWarning: \n",
      "A value is trying to be set on a copy of a slice from a DataFrame.\n",
      "Try using .loc[row_indexer,col_indexer] = value instead\n",
      "\n",
      "See the caveats in the documentation: https://pandas.pydata.org/pandas-docs/stable/user_guide/indexing.html#returning-a-view-versus-a-copy\n",
      "  valid['Predictions'] = predictions\n"
     ]
    },
    {
     "data": {
      "image/png": "[encoded data removed]",
      "text/plain": [
       "<Figure size 432x288 with 1 Axes>"
      ]
     },
     "metadata": {
      "needs_background": "light"
     },
     "output_type": "display_data"
    }
   ],
   "source": [
    "train = df[:training_data_len]\n",
    "valid = df[training_data_len:]\n",
    " \n",
    "valid['Predictions'] = predictions\n",
    " \n",
    "plt.title('Model')\n",
    "plt.xlabel('Date')\n",
    "plt.ylabel('Close')\n",
    " \n",
    "plt.plot(train['Close'])\n",
    "plt.plot(valid[['Close', 'Predictions']])\n",
    " \n",
    "plt.legend(['Train', 'Val', 'Predictions'], loc='lower right')\n",
    " \n",
    "plt.show()"
   ]
  },
  {
   "cell_type": "markdown",
   "id": "6163d23e",
   "metadata": {},
   "source": [
    "# Conclusion\n",
    "\n",
    "####  we learned how to predict stock prices using an LSTM model! And the values for actual (close) and predicted (predictions) prices needs  improvements."
   ]
  },
  {
   "cell_type": "code",
   "execution_count": null,
   "id": "3bdb0285",
   "metadata": {},
   "outputs": [],
   "source": []
  }
 ],
 "metadata": {
  "kernelspec": {
   "display_name": "Python 3 (ipykernel)",
   "language": "python",
   "name": "python3"
  },
  "language_info": {
   "codemirror_mode": {
    "name": "ipython",
    "version": 3
   },
   "file_extension": ".py",
   "mimetype": "text/x-python",
   "name": "python",
   "nbconvert_exporter": "python",
   "pygments_lexer": "ipython3",
   "version": "3.9.12"
  }
 },
 "nbformat": 4,
 "nbformat_minor": 5
}
